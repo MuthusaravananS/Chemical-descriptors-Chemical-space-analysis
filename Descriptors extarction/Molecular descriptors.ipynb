{
 "cells": [
  {
   "cell_type": "markdown",
   "id": "view-in-github",
   "metadata": {
    "id": "view-in-github"
   },
   "source": [
    "<a href=\"https://colab.research.google.com/github/gashawmg/molecular-descriptors/blob/main/Molecular%20descriptors.ipynb\" target=\"_parent\"><img src=\"https://colab.research.google.com/assets/colab-badge.svg\" alt=\"Open In Colab\"/></a>"
   ]
  },
  {
   "cell_type": "markdown",
   "id": "REl2RANeGN7S",
   "metadata": {
    "id": "REl2RANeGN7S"
   },
   "source": [
    "\n",
    "# Calculating molecular descriptors using RDkit and Mordred "
   ]
  },
  {
   "cell_type": "code",
   "execution_count": 1,
   "id": "H2LMvAZBGWpc",
   "metadata": {
    "colab": {
     "base_uri": "https://localhost:8080/"
    },
    "executionInfo": {
     "elapsed": 17632,
     "status": "ok",
     "timestamp": 1672989409614,
     "user": {
      "displayName": "MUTHUSARAVANAN S",
      "userId": "11781134045498187958"
     },
     "user_tz": -330
    },
    "id": "H2LMvAZBGWpc",
    "outputId": "b2126b90-de79-4c4e-ba57-116e276d8401"
   },
   "outputs": [
    {
     "name": "stdout",
     "output_type": "stream",
     "text": [
      "Requirement already satisfied: rdkit-pypi in c:\\users\\91830\\anaconda3\\lib\\site-packages (2022.9.3)\n",
      "Requirement already satisfied: numpy in c:\\users\\91830\\anaconda3\\lib\\site-packages (from rdkit-pypi) (1.21.6)\n",
      "Requirement already satisfied: Pillow in c:\\users\\91830\\anaconda3\\lib\\site-packages (from rdkit-pypi) (9.2.0)\n",
      "Requirement already satisfied: mordred in c:\\users\\91830\\anaconda3\\lib\\site-packages (1.2.0)\n",
      "Requirement already satisfied: numpy==1.* in c:\\users\\91830\\anaconda3\\lib\\site-packages (from mordred) (1.21.6)\n",
      "Requirement already satisfied: six==1.* in c:\\users\\91830\\anaconda3\\lib\\site-packages (from mordred) (1.16.0)\n",
      "Requirement already satisfied: networkx==2.* in c:\\users\\91830\\anaconda3\\lib\\site-packages (from mordred) (2.8.4)\n"
     ]
    }
   ],
   "source": [
    "!pip install rdkit-pypi\n",
    "!pip install mordred"
   ]
  },
  {
   "cell_type": "code",
   "execution_count": 2,
   "id": "5QKaKQNzGN7T",
   "metadata": {
    "executionInfo": {
     "elapsed": 880,
     "status": "ok",
     "timestamp": 1672989410488,
     "user": {
      "displayName": "MUTHUSARAVANAN S",
      "userId": "11781134045498187958"
     },
     "user_tz": -330
    },
    "id": "5QKaKQNzGN7T"
   },
   "outputs": [],
   "source": [
    "# https://www.rdkit.org/\n",
    "#https://github.com/rdkit/rdkit\n",
    "from rdkit.Chem import AllChem\n",
    "from rdkit import Chem\n",
    "from rdkit.Chem import Descriptors\n",
    "from rdkit.ML.Descriptors import MoleculeDescriptors\n",
    "\n",
    "# https://pandas.pydata.org\n",
    "import pandas as pd\n",
    "\n",
    "# https://numpy.org/doc/stable/release.html\n",
    "import numpy as np\n",
    "\n",
    "#https://github.com/mordred-descriptor/mordred\n",
    "from mordred import Calculator, descriptors"
   ]
  },
  {
   "cell_type": "code",
   "execution_count": 3,
   "id": "EqH5HW25GN7T",
   "metadata": {
    "executionInfo": {
     "elapsed": 4,
     "status": "ok",
     "timestamp": 1672989410488,
     "user": {
      "displayName": "MUTHUSARAVANAN S",
      "userId": "11781134045498187958"
     },
     "user_tz": -330
    },
    "id": "EqH5HW25GN7T"
   },
   "outputs": [],
   "source": [
    "# import session_info\n",
    "# session_info.show()"
   ]
  },
  {
   "cell_type": "code",
   "execution_count": 4,
   "id": "lk4ZASJZ3Mfu",
   "metadata": {
    "colab": {
     "base_uri": "https://localhost:8080/"
    },
    "executionInfo": {
     "elapsed": 30184,
     "status": "ok",
     "timestamp": 1672989440669,
     "user": {
      "displayName": "MUTHUSARAVANAN S",
      "userId": "11781134045498187958"
     },
     "user_tz": -330
    },
    "id": "lk4ZASJZ3Mfu",
    "outputId": "bd09088f-97ef-4b31-8856-b6fedd669b55"
   },
   "outputs": [
    {
     "ename": "ModuleNotFoundError",
     "evalue": "No module named 'google.colab'",
     "output_type": "error",
     "traceback": [
      "\u001b[1;31m---------------------------------------------------------------------------\u001b[0m",
      "\u001b[1;31mModuleNotFoundError\u001b[0m                       Traceback (most recent call last)",
      "\u001b[1;32m~\\AppData\\Local\\Temp\\ipykernel_20208\\1408506528.py\u001b[0m in \u001b[0;36m<module>\u001b[1;34m\u001b[0m\n\u001b[1;32m----> 1\u001b[1;33m \u001b[1;32mfrom\u001b[0m \u001b[0mgoogle\u001b[0m\u001b[1;33m.\u001b[0m\u001b[0mcolab\u001b[0m \u001b[1;32mimport\u001b[0m \u001b[0mdrive\u001b[0m\u001b[1;33m\u001b[0m\u001b[1;33m\u001b[0m\u001b[0m\n\u001b[0m\u001b[0;32m      2\u001b[0m \u001b[0mdrive\u001b[0m\u001b[1;33m.\u001b[0m\u001b[0mmount\u001b[0m\u001b[1;33m(\u001b[0m\u001b[1;34m'/content/drive'\u001b[0m\u001b[1;33m)\u001b[0m\u001b[1;33m\u001b[0m\u001b[1;33m\u001b[0m\u001b[0m\n",
      "\u001b[1;31mModuleNotFoundError\u001b[0m: No module named 'google.colab'"
     ]
    }
   ],
   "source": [
    "from google.colab import drive\n",
    "drive.mount('/content/drive')"
   ]
  },
  {
   "cell_type": "code",
   "execution_count": 6,
   "id": "HvtyckkWGN7U",
   "metadata": {
    "colab": {
     "base_uri": "https://localhost:8080/"
    },
    "executionInfo": {
     "elapsed": 20,
     "status": "ok",
     "timestamp": 1672989440670,
     "user": {
      "displayName": "MUTHUSARAVANAN S",
      "userId": "11781134045498187958"
     },
     "user_tz": -330
    },
    "id": "HvtyckkWGN7U",
    "outputId": "6e4f923c-aa6a-4941-cc2c-9b5384bca378"
   },
   "outputs": [
    {
     "data": {
      "text/plain": [
       "(4239, 2)"
      ]
     },
     "execution_count": 6,
     "metadata": {},
     "output_type": "execute_result"
    }
   ],
   "source": [
    "url = 'https://raw.githubusercontent.com/MuthusaravananS/PAK1_inhibitors/main/PubChem_chemicalvendor%20library.csv'\n",
    "dataset = pd.read_csv(url)\n",
    "dataset.shape"
   ]
  },
  {
   "cell_type": "code",
   "execution_count": 5,
   "id": "cS91hWxbvdX4",
   "metadata": {
    "colab": {
     "base_uri": "https://localhost:8080/"
    },
    "executionInfo": {
     "elapsed": 618,
     "status": "ok",
     "timestamp": 1672989461057,
     "user": {
      "displayName": "MUTHUSARAVANAN S",
      "userId": "11781134045498187958"
     },
     "user_tz": -330
    },
    "id": "cS91hWxbvdX4",
    "outputId": "0200df03-65bd-4e20-f9a2-a99bf2a6a4ca"
   },
   "outputs": [
    {
     "data": {
      "text/plain": [
       "(263, 4)"
      ]
     },
     "execution_count": 5,
     "metadata": {},
     "output_type": "execute_result"
    }
   ],
   "source": [
    "dataset = pd.read_csv('pak1_03_bioactivity_data_curated.csv')\n",
    "dataset.shape"
   ]
  },
  {
   "cell_type": "code",
   "execution_count": 6,
   "id": "BH4NCEv5GN7U",
   "metadata": {
    "colab": {
     "base_uri": "https://localhost:8080/",
     "height": 206
    },
    "executionInfo": {
     "elapsed": 666,
     "status": "ok",
     "timestamp": 1672989465972,
     "user": {
      "displayName": "MUTHUSARAVANAN S",
      "userId": "11781134045498187958"
     },
     "user_tz": -330
    },
    "id": "BH4NCEv5GN7U",
    "outputId": "6f9bba87-3f70-4fd7-9dd9-f63dd20b3d64"
   },
   "outputs": [
    {
     "data": {
      "text/html": [
       "<div>\n",
       "<style scoped>\n",
       "    .dataframe tbody tr th:only-of-type {\n",
       "        vertical-align: middle;\n",
       "    }\n",
       "\n",
       "    .dataframe tbody tr th {\n",
       "        vertical-align: top;\n",
       "    }\n",
       "\n",
       "    .dataframe thead th {\n",
       "        text-align: right;\n",
       "    }\n",
       "</style>\n",
       "<table border=\"1\" class=\"dataframe\">\n",
       "  <thead>\n",
       "    <tr style=\"text-align: right;\">\n",
       "      <th></th>\n",
       "      <th>molecule_chembl_id</th>\n",
       "      <th>canonical_smiles</th>\n",
       "      <th>class</th>\n",
       "      <th>pIC50</th>\n",
       "    </tr>\n",
       "  </thead>\n",
       "  <tbody>\n",
       "    <tr>\n",
       "      <th>0</th>\n",
       "      <td>CHEMBL271139</td>\n",
       "      <td>c1nc(NC2CCCC2)c2nc[nH]c2n1</td>\n",
       "      <td>inactive</td>\n",
       "      <td>4.744727</td>\n",
       "    </tr>\n",
       "    <tr>\n",
       "      <th>1</th>\n",
       "      <td>CHEMBL259041</td>\n",
       "      <td>CCCCCSc1ncnc2[nH]cnc12</td>\n",
       "      <td>inactive</td>\n",
       "      <td>4.420216</td>\n",
       "    </tr>\n",
       "    <tr>\n",
       "      <th>2</th>\n",
       "      <td>CHEMBL259040</td>\n",
       "      <td>c1nc2cnc(NC3CCCCC3)nc2[nH]1</td>\n",
       "      <td>inactive</td>\n",
       "      <td>4.508638</td>\n",
       "    </tr>\n",
       "    <tr>\n",
       "      <th>3</th>\n",
       "      <td>CHEMBL408244</td>\n",
       "      <td>CC(Sc1ncnc2[nH]cnc12)c1ccccc1Cl</td>\n",
       "      <td>inactive</td>\n",
       "      <td>4.638272</td>\n",
       "    </tr>\n",
       "    <tr>\n",
       "      <th>4</th>\n",
       "      <td>CHEMBL407278</td>\n",
       "      <td>CC1CC(Nc2ncnc3[nH]cnc23)CC(C)(C)C1</td>\n",
       "      <td>inactive</td>\n",
       "      <td>4.638272</td>\n",
       "    </tr>\n",
       "  </tbody>\n",
       "</table>\n",
       "</div>"
      ],
      "text/plain": [
       "  molecule_chembl_id                    canonical_smiles     class     pIC50\n",
       "0       CHEMBL271139          c1nc(NC2CCCC2)c2nc[nH]c2n1  inactive  4.744727\n",
       "1       CHEMBL259041              CCCCCSc1ncnc2[nH]cnc12  inactive  4.420216\n",
       "2       CHEMBL259040         c1nc2cnc(NC3CCCCC3)nc2[nH]1  inactive  4.508638\n",
       "3       CHEMBL408244     CC(Sc1ncnc2[nH]cnc12)c1ccccc1Cl  inactive  4.638272\n",
       "4       CHEMBL407278  CC1CC(Nc2ncnc3[nH]cnc23)CC(C)(C)C1  inactive  4.638272"
      ]
     },
     "execution_count": 6,
     "metadata": {},
     "output_type": "execute_result"
    }
   ],
   "source": [
    "dataset.head()"
   ]
  },
  {
   "cell_type": "markdown",
   "id": "_5BvScqxGN7U",
   "metadata": {
    "id": "_5BvScqxGN7U"
   },
   "source": [
    "## 1. Generate canonical SMILES"
   ]
  },
  {
   "cell_type": "code",
   "execution_count": 7,
   "id": "I16JLREkGN7U",
   "metadata": {
    "executionInfo": {
     "elapsed": 668,
     "status": "ok",
     "timestamp": 1672989471244,
     "user": {
      "displayName": "MUTHUSARAVANAN S",
      "userId": "11781134045498187958"
     },
     "user_tz": -330
    },
    "id": "I16JLREkGN7U"
   },
   "outputs": [],
   "source": [
    "# There might be one or more valid SMILES that can represent one compound\n",
    "# Thanks to Pat Walters for this information,checkout his excellent blog: https://www.blogger.com/profile/18223198920629617711\n",
    "def canonical_smiles(smiles):\n",
    "    mols = [Chem.MolFromSmiles(smi) for smi in smiles] \n",
    "    smiles = [Chem.MolToSmiles(mol) for mol in mols]\n",
    "    return smiles"
   ]
  },
  {
   "cell_type": "code",
   "execution_count": 8,
   "id": "F1rEcEO6GN7V",
   "metadata": {
    "colab": {
     "base_uri": "https://localhost:8080/",
     "height": 167
    },
    "executionInfo": {
     "elapsed": 6,
     "status": "ok",
     "timestamp": 1672989472177,
     "user": {
      "displayName": "MUTHUSARAVANAN S",
      "userId": "11781134045498187958"
     },
     "user_tz": -330
    },
    "id": "F1rEcEO6GN7V",
    "outputId": "9d49ec0c-94d8-4ae8-aa37-2cbc2fcaf840"
   },
   "outputs": [
    {
     "data": {
      "image/png": "[encoded data removed]",
      "text/plain": [
       "<rdkit.Chem.rdchem.Mol at 0x1a7bf7aaeb0>"
      ]
     },
     "execution_count": 8,
     "metadata": {},
     "output_type": "execute_result"
    }
   ],
   "source": [
    "from rdkit.Chem import Draw\n",
    "from rdkit.Chem.Draw import IPythonConsole\n",
    "\n",
    "Chem.MolFromSmiles('C=CCC')"
   ]
  },
  {
   "cell_type": "code",
   "execution_count": 9,
   "id": "l4_kzw313tsU",
   "metadata": {
    "colab": {
     "base_uri": "https://localhost:8080/",
     "height": 167
    },
    "executionInfo": {
     "elapsed": 5,
     "status": "ok",
     "timestamp": 1672989474908,
     "user": {
      "displayName": "MUTHUSARAVANAN S",
      "userId": "11781134045498187958"
     },
     "user_tz": -330
    },
    "id": "l4_kzw313tsU",
    "outputId": "cc328ced-d3ad-4208-e7b6-146441b77648"
   },
   "outputs": [
    {
     "data": {
      "image/png": "[encoded data removed]",
      "text/plain": [
       "<rdkit.Chem.rdchem.Mol at 0x1a7bf7f30b0>"
      ]
     },
     "execution_count": 9,
     "metadata": {},
     "output_type": "execute_result"
    }
   ],
   "source": [
    "Chem.MolFromSmiles('CCC=C')"
   ]
  },
  {
   "cell_type": "code",
   "execution_count": 11,
   "id": "BroCmb0T3w7F",
   "metadata": {
    "colab": {
     "base_uri": "https://localhost:8080/"
    },
    "executionInfo": {
     "elapsed": 643,
     "status": "ok",
     "timestamp": 1672989479859,
     "user": {
      "displayName": "MUTHUSARAVANAN S",
      "userId": "11781134045498187958"
     },
     "user_tz": -330
    },
    "id": "BroCmb0T3w7F",
    "outputId": "77437142-5069-40dd-de42-d642e645cbd3"
   },
   "outputs": [
    {
     "data": {
      "text/plain": [
       "263"
      ]
     },
     "execution_count": 11,
     "metadata": {},
     "output_type": "execute_result"
    }
   ],
   "source": [
    "# Canonical SMILES\n",
    "Canon_SMILES = canonical_smiles(dataset.canonical_smiles)\n",
    "len(Canon_SMILES)"
   ]
  },
  {
   "cell_type": "code",
   "execution_count": 12,
   "id": "jgos-jOJ4BMc",
   "metadata": {
    "id": "jgos-jOJ4BMc"
   },
   "outputs": [
    {
     "data": {
      "text/html": [
       "<div>\n",
       "<style scoped>\n",
       "    .dataframe tbody tr th:only-of-type {\n",
       "        vertical-align: middle;\n",
       "    }\n",
       "\n",
       "    .dataframe tbody tr th {\n",
       "        vertical-align: top;\n",
       "    }\n",
       "\n",
       "    .dataframe thead th {\n",
       "        text-align: right;\n",
       "    }\n",
       "</style>\n",
       "<table border=\"1\" class=\"dataframe\">\n",
       "  <thead>\n",
       "    <tr style=\"text-align: right;\">\n",
       "      <th></th>\n",
       "      <th>molecule_chembl_id</th>\n",
       "      <th>canonical_smiles</th>\n",
       "      <th>class</th>\n",
       "      <th>pIC50</th>\n",
       "    </tr>\n",
       "  </thead>\n",
       "  <tbody>\n",
       "    <tr>\n",
       "      <th>0</th>\n",
       "      <td>CHEMBL271139</td>\n",
       "      <td>c1nc(NC2CCCC2)c2nc[nH]c2n1</td>\n",
       "      <td>inactive</td>\n",
       "      <td>4.744727</td>\n",
       "    </tr>\n",
       "    <tr>\n",
       "      <th>1</th>\n",
       "      <td>CHEMBL259041</td>\n",
       "      <td>CCCCCSc1ncnc2[nH]cnc12</td>\n",
       "      <td>inactive</td>\n",
       "      <td>4.420216</td>\n",
       "    </tr>\n",
       "    <tr>\n",
       "      <th>2</th>\n",
       "      <td>CHEMBL259040</td>\n",
       "      <td>c1nc2cnc(NC3CCCCC3)nc2[nH]1</td>\n",
       "      <td>inactive</td>\n",
       "      <td>4.508638</td>\n",
       "    </tr>\n",
       "    <tr>\n",
       "      <th>3</th>\n",
       "      <td>CHEMBL408244</td>\n",
       "      <td>CC(Sc1ncnc2[nH]cnc12)c1ccccc1Cl</td>\n",
       "      <td>inactive</td>\n",
       "      <td>4.638272</td>\n",
       "    </tr>\n",
       "    <tr>\n",
       "      <th>4</th>\n",
       "      <td>CHEMBL407278</td>\n",
       "      <td>CC1CC(Nc2ncnc3[nH]cnc23)CC(C)(C)C1</td>\n",
       "      <td>inactive</td>\n",
       "      <td>4.638272</td>\n",
       "    </tr>\n",
       "    <tr>\n",
       "      <th>...</th>\n",
       "      <td>...</td>\n",
       "      <td>...</td>\n",
       "      <td>...</td>\n",
       "      <td>...</td>\n",
       "    </tr>\n",
       "    <tr>\n",
       "      <th>258</th>\n",
       "      <td>CHEMBL4776761</td>\n",
       "      <td>O=C(Nc1ccc(Cl)c(Cl)c1)NC1CCN(c2ncnc3[nH]ncc23)CC1</td>\n",
       "      <td>active</td>\n",
       "      <td>5.640165</td>\n",
       "    </tr>\n",
       "    <tr>\n",
       "      <th>259</th>\n",
       "      <td>CHEMBL4787813</td>\n",
       "      <td>O=C(Nc1ccc(F)cc1F)NC1CCN(c2ncnc3[nH]ncc23)CC1</td>\n",
       "      <td>active</td>\n",
       "      <td>5.943095</td>\n",
       "    </tr>\n",
       "    <tr>\n",
       "      <th>260</th>\n",
       "      <td>CHEMBL4780410</td>\n",
       "      <td>O=C(Nc1cc(C(F)(F)F)cc(C(F)(F)F)c1)NC1CCN(c2ncn...</td>\n",
       "      <td>active</td>\n",
       "      <td>6.769551</td>\n",
       "    </tr>\n",
       "    <tr>\n",
       "      <th>261</th>\n",
       "      <td>CHEMBL4791790</td>\n",
       "      <td>O=C(Nc1cccc2ccccc12)NC1CCN(c2ncnc3[nH]ncc23)CC1</td>\n",
       "      <td>inactive</td>\n",
       "      <td>4.953115</td>\n",
       "    </tr>\n",
       "    <tr>\n",
       "      <th>262</th>\n",
       "      <td>CHEMBL4876497</td>\n",
       "      <td>Cc1n[nH]c2ccc(-c3cc(N[C@@H](CO)c4ccccc4)cnc3Cl...</td>\n",
       "      <td>active</td>\n",
       "      <td>6.000000</td>\n",
       "    </tr>\n",
       "  </tbody>\n",
       "</table>\n",
       "<p>263 rows × 4 columns</p>\n",
       "</div>"
      ],
      "text/plain": [
       "    molecule_chembl_id                                   canonical_smiles  \\\n",
       "0         CHEMBL271139                         c1nc(NC2CCCC2)c2nc[nH]c2n1   \n",
       "1         CHEMBL259041                             CCCCCSc1ncnc2[nH]cnc12   \n",
       "2         CHEMBL259040                        c1nc2cnc(NC3CCCCC3)nc2[nH]1   \n",
       "3         CHEMBL408244                    CC(Sc1ncnc2[nH]cnc12)c1ccccc1Cl   \n",
       "4         CHEMBL407278                 CC1CC(Nc2ncnc3[nH]cnc23)CC(C)(C)C1   \n",
       "..                 ...                                                ...   \n",
       "258      CHEMBL4776761  O=C(Nc1ccc(Cl)c(Cl)c1)NC1CCN(c2ncnc3[nH]ncc23)CC1   \n",
       "259      CHEMBL4787813      O=C(Nc1ccc(F)cc1F)NC1CCN(c2ncnc3[nH]ncc23)CC1   \n",
       "260      CHEMBL4780410  O=C(Nc1cc(C(F)(F)F)cc(C(F)(F)F)c1)NC1CCN(c2ncn...   \n",
       "261      CHEMBL4791790    O=C(Nc1cccc2ccccc12)NC1CCN(c2ncnc3[nH]ncc23)CC1   \n",
       "262      CHEMBL4876497  Cc1n[nH]c2ccc(-c3cc(N[C@@H](CO)c4ccccc4)cnc3Cl...   \n",
       "\n",
       "        class     pIC50  \n",
       "0    inactive  4.744727  \n",
       "1    inactive  4.420216  \n",
       "2    inactive  4.508638  \n",
       "3    inactive  4.638272  \n",
       "4    inactive  4.638272  \n",
       "..        ...       ...  \n",
       "258    active  5.640165  \n",
       "259    active  5.943095  \n",
       "260    active  6.769551  \n",
       "261  inactive  4.953115  \n",
       "262    active  6.000000  \n",
       "\n",
       "[263 rows x 4 columns]"
      ]
     },
     "execution_count": 12,
     "metadata": {},
     "output_type": "execute_result"
    }
   ],
   "source": [
    "# Put the smiles in the dataframe\n",
    "dataset['canonical_smiles'] = Canon_SMILES\n",
    "dataset"
   ]
  },
  {
   "cell_type": "code",
   "execution_count": 13,
   "id": "iddTUQXC4Fwp",
   "metadata": {
    "colab": {
     "base_uri": "https://localhost:8080/"
    },
    "executionInfo": {
     "elapsed": 4,
     "status": "ok",
     "timestamp": 1672989483927,
     "user": {
      "displayName": "MUTHUSARAVANAN S",
      "userId": "11781134045498187958"
     },
     "user_tz": -330
    },
    "id": "iddTUQXC4Fwp",
    "outputId": "639ae70a-db84-4ba1-87aa-562d707b0e95"
   },
   "outputs": [
    {
     "data": {
      "text/plain": [
       "0"
      ]
     },
     "execution_count": 13,
     "metadata": {},
     "output_type": "execute_result"
    }
   ],
   "source": [
    "# Create a list for duplicate smiles\n",
    "duplicates_smiles = dataset[dataset['canonical_smiles'].duplicated()]['canonical_smiles'].values\n",
    "len(duplicates_smiles)"
   ]
  },
  {
   "cell_type": "code",
   "execution_count": 15,
   "id": "zzWfcO9b4KSA",
   "metadata": {
    "colab": {
     "base_uri": "https://localhost:8080/"
    },
    "executionInfo": {
     "elapsed": 560,
     "status": "ok",
     "timestamp": 1672989488633,
     "user": {
      "displayName": "MUTHUSARAVANAN S",
      "userId": "11781134045498187958"
     },
     "user_tz": -330
    },
    "id": "zzWfcO9b4KSA",
    "outputId": "8401101a-0efa-4a18-af1f-f53c30473bd2"
   },
   "outputs": [
    {
     "data": {
      "text/plain": [
       "263"
      ]
     },
     "execution_count": 15,
     "metadata": {},
     "output_type": "execute_result"
    }
   ],
   "source": [
    "\n",
    "\n",
    "31\n",
    "\n",
    "# Create a list for duplicate smiles\n",
    "dataset[dataset['canonical_smiles'].isin(duplicates_smiles)].sort_values(by=['canonical_smiles'])\n",
    "\n",
    "\n",
    "\n",
    "dataset_new = dataset.drop_duplicates(subset=['canonical_smiles'])\n",
    "len(dataset_new)\n",
    "\n"
   ]
  },
  {
   "cell_type": "markdown",
   "id": "xBuGdg9mGN7W",
   "metadata": {
    "id": "xBuGdg9mGN7W"
   },
   "source": [
    "## Calculate descriptors using RDkit"
   ]
  },
  {
   "cell_type": "markdown",
   "id": "fIDylotoGN7W",
   "metadata": {
    "id": "fIDylotoGN7W"
   },
   "source": [
    "### a. General molecular descriptors-about 208 molecular descriptors\n",
    "\n",
    "---\n",
    "\n"
   ]
  },
  {
   "cell_type": "code",
   "execution_count": 18,
   "id": "uS5_dHCvGN7W",
   "metadata": {
    "executionInfo": {
     "elapsed": 52649,
     "status": "ok",
     "timestamp": 1672989546814,
     "user": {
      "displayName": "MUTHUSARAVANAN S",
      "userId": "11781134045498187958"
     },
     "user_tz": -330
    },
    "id": "uS5_dHCvGN7W"
   },
   "outputs": [],
   "source": [
    "def RDkit_descriptors(smiles):\n",
    "    mols = [Chem.MolFromSmiles(i) for i in smiles] \n",
    "    calc = MoleculeDescriptors.MolecularDescriptorCalculator([x[0] for x in Descriptors._descList])\n",
    "    desc_names = calc.GetDescriptorNames()\n",
    "    \n",
    "    Mol_descriptors =[]\n",
    "    for mol in mols:\n",
    "        # add hydrogens to molecules\n",
    "        mol=Chem.AddHs(mol)\n",
    "        # Calculate all 200 descriptors for each molecule\n",
    "        descriptors = calc.CalcDescriptors(mol)\n",
    "        Mol_descriptors.append(descriptors)\n",
    "    return Mol_descriptors,desc_names \n",
    "\n",
    "# Function call\n",
    "Mol_descriptors,desc_names = RDkit_descriptors(dataset_new['canonical_smiles'])"
   ]
  },
  {
   "cell_type": "code",
   "execution_count": 19,
   "id": "6XE4on1MGN7X",
   "metadata": {
    "executionInfo": {
     "elapsed": 18,
     "status": "aborted",
     "timestamp": 1672989440675,
     "user": {
      "displayName": "MUTHUSARAVANAN S",
      "userId": "11781134045498187958"
     },
     "user_tz": -330
    },
    "id": "6XE4on1MGN7X"
   },
   "outputs": [
    {
     "data": {
      "text/html": [
       "<div>\n",
       "<style scoped>\n",
       "    .dataframe tbody tr th:only-of-type {\n",
       "        vertical-align: middle;\n",
       "    }\n",
       "\n",
       "    .dataframe tbody tr th {\n",
       "        vertical-align: top;\n",
       "    }\n",
       "\n",
       "    .dataframe thead th {\n",
       "        text-align: right;\n",
       "    }\n",
       "</style>\n",
       "<table border=\"1\" class=\"dataframe\">\n",
       "  <thead>\n",
       "    <tr style=\"text-align: right;\">\n",
       "      <th></th>\n",
       "      <th>MaxEStateIndex</th>\n",
       "      <th>MinEStateIndex</th>\n",
       "      <th>MaxAbsEStateIndex</th>\n",
       "      <th>MinAbsEStateIndex</th>\n",
       "      <th>qed</th>\n",
       "      <th>MolWt</th>\n",
       "      <th>HeavyAtomMolWt</th>\n",
       "      <th>ExactMolWt</th>\n",
       "      <th>NumValenceElectrons</th>\n",
       "      <th>NumRadicalElectrons</th>\n",
       "      <th>...</th>\n",
       "      <th>fr_sulfide</th>\n",
       "      <th>fr_sulfonamd</th>\n",
       "      <th>fr_sulfone</th>\n",
       "      <th>fr_term_acetylene</th>\n",
       "      <th>fr_tetrazole</th>\n",
       "      <th>fr_thiazole</th>\n",
       "      <th>fr_thiocyan</th>\n",
       "      <th>fr_thiophene</th>\n",
       "      <th>fr_unbrch_alkane</th>\n",
       "      <th>fr_urea</th>\n",
       "    </tr>\n",
       "  </thead>\n",
       "  <tbody>\n",
       "    <tr>\n",
       "      <th>0</th>\n",
       "      <td>8.405392</td>\n",
       "      <td>-3.567918</td>\n",
       "      <td>8.405392</td>\n",
       "      <td>0.190324</td>\n",
       "      <td>0.779302</td>\n",
       "      <td>203.249</td>\n",
       "      <td>190.145</td>\n",
       "      <td>203.117095</td>\n",
       "      <td>78</td>\n",
       "      <td>0</td>\n",
       "      <td>...</td>\n",
       "      <td>0</td>\n",
       "      <td>0</td>\n",
       "      <td>0</td>\n",
       "      <td>0</td>\n",
       "      <td>0</td>\n",
       "      <td>0</td>\n",
       "      <td>0</td>\n",
       "      <td>0</td>\n",
       "      <td>0</td>\n",
       "      <td>0</td>\n",
       "    </tr>\n",
       "    <tr>\n",
       "      <th>1</th>\n",
       "      <td>8.027036</td>\n",
       "      <td>-3.826332</td>\n",
       "      <td>8.027036</td>\n",
       "      <td>0.073484</td>\n",
       "      <td>0.479794</td>\n",
       "      <td>222.317</td>\n",
       "      <td>208.205</td>\n",
       "      <td>222.093917</td>\n",
       "      <td>80</td>\n",
       "      <td>0</td>\n",
       "      <td>...</td>\n",
       "      <td>1</td>\n",
       "      <td>0</td>\n",
       "      <td>0</td>\n",
       "      <td>0</td>\n",
       "      <td>0</td>\n",
       "      <td>0</td>\n",
       "      <td>0</td>\n",
       "      <td>0</td>\n",
       "      <td>0</td>\n",
       "      <td>0</td>\n",
       "    </tr>\n",
       "    <tr>\n",
       "      <th>2</th>\n",
       "      <td>8.489020</td>\n",
       "      <td>-3.858482</td>\n",
       "      <td>8.489020</td>\n",
       "      <td>0.323751</td>\n",
       "      <td>0.807999</td>\n",
       "      <td>217.276</td>\n",
       "      <td>202.156</td>\n",
       "      <td>217.132745</td>\n",
       "      <td>84</td>\n",
       "      <td>0</td>\n",
       "      <td>...</td>\n",
       "      <td>0</td>\n",
       "      <td>0</td>\n",
       "      <td>0</td>\n",
       "      <td>0</td>\n",
       "      <td>0</td>\n",
       "      <td>0</td>\n",
       "      <td>0</td>\n",
       "      <td>0</td>\n",
       "      <td>0</td>\n",
       "      <td>0</td>\n",
       "    </tr>\n",
       "    <tr>\n",
       "      <th>3</th>\n",
       "      <td>8.720346</td>\n",
       "      <td>-3.174286</td>\n",
       "      <td>8.720346</td>\n",
       "      <td>0.200154</td>\n",
       "      <td>0.587710</td>\n",
       "      <td>290.779</td>\n",
       "      <td>279.691</td>\n",
       "      <td>290.039295</td>\n",
       "      <td>96</td>\n",
       "      <td>0</td>\n",
       "      <td>...</td>\n",
       "      <td>1</td>\n",
       "      <td>0</td>\n",
       "      <td>0</td>\n",
       "      <td>0</td>\n",
       "      <td>0</td>\n",
       "      <td>0</td>\n",
       "      <td>0</td>\n",
       "      <td>0</td>\n",
       "      <td>0</td>\n",
       "      <td>0</td>\n",
       "    </tr>\n",
       "    <tr>\n",
       "      <th>4</th>\n",
       "      <td>9.005392</td>\n",
       "      <td>-4.658624</td>\n",
       "      <td>9.005392</td>\n",
       "      <td>0.192640</td>\n",
       "      <td>0.869763</td>\n",
       "      <td>259.357</td>\n",
       "      <td>238.189</td>\n",
       "      <td>259.179696</td>\n",
       "      <td>102</td>\n",
       "      <td>0</td>\n",
       "      <td>...</td>\n",
       "      <td>0</td>\n",
       "      <td>0</td>\n",
       "      <td>0</td>\n",
       "      <td>0</td>\n",
       "      <td>0</td>\n",
       "      <td>0</td>\n",
       "      <td>0</td>\n",
       "      <td>0</td>\n",
       "      <td>0</td>\n",
       "      <td>0</td>\n",
       "    </tr>\n",
       "    <tr>\n",
       "      <th>...</th>\n",
       "      <td>...</td>\n",
       "      <td>...</td>\n",
       "      <td>...</td>\n",
       "      <td>...</td>\n",
       "      <td>...</td>\n",
       "      <td>...</td>\n",
       "      <td>...</td>\n",
       "      <td>...</td>\n",
       "      <td>...</td>\n",
       "      <td>...</td>\n",
       "      <td>...</td>\n",
       "      <td>...</td>\n",
       "      <td>...</td>\n",
       "      <td>...</td>\n",
       "      <td>...</td>\n",
       "      <td>...</td>\n",
       "      <td>...</td>\n",
       "      <td>...</td>\n",
       "      <td>...</td>\n",
       "      <td>...</td>\n",
       "      <td>...</td>\n",
       "    </tr>\n",
       "    <tr>\n",
       "      <th>258</th>\n",
       "      <td>13.334900</td>\n",
       "      <td>-4.232521</td>\n",
       "      <td>13.334900</td>\n",
       "      <td>0.215771</td>\n",
       "      <td>0.619001</td>\n",
       "      <td>406.277</td>\n",
       "      <td>389.141</td>\n",
       "      <td>405.087164</td>\n",
       "      <td>140</td>\n",
       "      <td>0</td>\n",
       "      <td>...</td>\n",
       "      <td>0</td>\n",
       "      <td>0</td>\n",
       "      <td>0</td>\n",
       "      <td>0</td>\n",
       "      <td>0</td>\n",
       "      <td>0</td>\n",
       "      <td>0</td>\n",
       "      <td>0</td>\n",
       "      <td>0</td>\n",
       "      <td>1</td>\n",
       "    </tr>\n",
       "    <tr>\n",
       "      <th>259</th>\n",
       "      <td>14.690008</td>\n",
       "      <td>-4.355645</td>\n",
       "      <td>14.690008</td>\n",
       "      <td>0.181323</td>\n",
       "      <td>0.654910</td>\n",
       "      <td>373.367</td>\n",
       "      <td>356.231</td>\n",
       "      <td>373.146265</td>\n",
       "      <td>140</td>\n",
       "      <td>0</td>\n",
       "      <td>...</td>\n",
       "      <td>0</td>\n",
       "      <td>0</td>\n",
       "      <td>0</td>\n",
       "      <td>0</td>\n",
       "      <td>0</td>\n",
       "      <td>0</td>\n",
       "      <td>0</td>\n",
       "      <td>0</td>\n",
       "      <td>0</td>\n",
       "      <td>1</td>\n",
       "    </tr>\n",
       "    <tr>\n",
       "      <th>260</th>\n",
       "      <td>13.717881</td>\n",
       "      <td>-5.965837</td>\n",
       "      <td>13.717881</td>\n",
       "      <td>0.101056</td>\n",
       "      <td>0.496077</td>\n",
       "      <td>473.381</td>\n",
       "      <td>456.245</td>\n",
       "      <td>473.139877</td>\n",
       "      <td>176</td>\n",
       "      <td>0</td>\n",
       "      <td>...</td>\n",
       "      <td>0</td>\n",
       "      <td>0</td>\n",
       "      <td>0</td>\n",
       "      <td>0</td>\n",
       "      <td>0</td>\n",
       "      <td>0</td>\n",
       "      <td>0</td>\n",
       "      <td>0</td>\n",
       "      <td>0</td>\n",
       "      <td>1</td>\n",
       "    </tr>\n",
       "    <tr>\n",
       "      <th>261</th>\n",
       "      <td>13.783675</td>\n",
       "      <td>-4.337614</td>\n",
       "      <td>13.783675</td>\n",
       "      <td>0.195802</td>\n",
       "      <td>0.500955</td>\n",
       "      <td>387.447</td>\n",
       "      <td>366.279</td>\n",
       "      <td>387.180758</td>\n",
       "      <td>146</td>\n",
       "      <td>0</td>\n",
       "      <td>...</td>\n",
       "      <td>0</td>\n",
       "      <td>0</td>\n",
       "      <td>0</td>\n",
       "      <td>0</td>\n",
       "      <td>0</td>\n",
       "      <td>0</td>\n",
       "      <td>0</td>\n",
       "      <td>0</td>\n",
       "      <td>0</td>\n",
       "      <td>1</td>\n",
       "    </tr>\n",
       "    <tr>\n",
       "      <th>262</th>\n",
       "      <td>9.026090</td>\n",
       "      <td>-3.742860</td>\n",
       "      <td>9.026090</td>\n",
       "      <td>0.238173</td>\n",
       "      <td>0.438684</td>\n",
       "      <td>378.863</td>\n",
       "      <td>359.711</td>\n",
       "      <td>378.124739</td>\n",
       "      <td>136</td>\n",
       "      <td>0</td>\n",
       "      <td>...</td>\n",
       "      <td>0</td>\n",
       "      <td>0</td>\n",
       "      <td>0</td>\n",
       "      <td>0</td>\n",
       "      <td>0</td>\n",
       "      <td>0</td>\n",
       "      <td>0</td>\n",
       "      <td>0</td>\n",
       "      <td>0</td>\n",
       "      <td>0</td>\n",
       "    </tr>\n",
       "  </tbody>\n",
       "</table>\n",
       "<p>263 rows × 208 columns</p>\n",
       "</div>"
      ],
      "text/plain": [
       "     MaxEStateIndex  MinEStateIndex  MaxAbsEStateIndex  MinAbsEStateIndex  \\\n",
       "0          8.405392       -3.567918           8.405392           0.190324   \n",
       "1          8.027036       -3.826332           8.027036           0.073484   \n",
       "2          8.489020       -3.858482           8.489020           0.323751   \n",
       "3          8.720346       -3.174286           8.720346           0.200154   \n",
       "4          9.005392       -4.658624           9.005392           0.192640   \n",
       "..              ...             ...                ...                ...   \n",
       "258       13.334900       -4.232521          13.334900           0.215771   \n",
       "259       14.690008       -4.355645          14.690008           0.181323   \n",
       "260       13.717881       -5.965837          13.717881           0.101056   \n",
       "261       13.783675       -4.337614          13.783675           0.195802   \n",
       "262        9.026090       -3.742860           9.026090           0.238173   \n",
       "\n",
       "          qed    MolWt  HeavyAtomMolWt  ExactMolWt  NumValenceElectrons  \\\n",
       "0    0.779302  203.249         190.145  203.117095                   78   \n",
       "1    0.479794  222.317         208.205  222.093917                   80   \n",
       "2    0.807999  217.276         202.156  217.132745                   84   \n",
       "3    0.587710  290.779         279.691  290.039295                   96   \n",
       "4    0.869763  259.357         238.189  259.179696                  102   \n",
       "..        ...      ...             ...         ...                  ...   \n",
       "258  0.619001  406.277         389.141  405.087164                  140   \n",
       "259  0.654910  373.367         356.231  373.146265                  140   \n",
       "260  0.496077  473.381         456.245  473.139877                  176   \n",
       "261  0.500955  387.447         366.279  387.180758                  146   \n",
       "262  0.438684  378.863         359.711  378.124739                  136   \n",
       "\n",
       "     NumRadicalElectrons  ...  fr_sulfide  fr_sulfonamd  fr_sulfone  \\\n",
       "0                      0  ...           0             0           0   \n",
       "1                      0  ...           1             0           0   \n",
       "2                      0  ...           0             0           0   \n",
       "3                      0  ...           1             0           0   \n",
       "4                      0  ...           0             0           0   \n",
       "..                   ...  ...         ...           ...         ...   \n",
       "258                    0  ...           0             0           0   \n",
       "259                    0  ...           0             0           0   \n",
       "260                    0  ...           0             0           0   \n",
       "261                    0  ...           0             0           0   \n",
       "262                    0  ...           0             0           0   \n",
       "\n",
       "     fr_term_acetylene  fr_tetrazole  fr_thiazole  fr_thiocyan  fr_thiophene  \\\n",
       "0                    0             0            0            0             0   \n",
       "1                    0             0            0            0             0   \n",
       "2                    0             0            0            0             0   \n",
       "3                    0             0            0            0             0   \n",
       "4                    0             0            0            0             0   \n",
       "..                 ...           ...          ...          ...           ...   \n",
       "258                  0             0            0            0             0   \n",
       "259                  0             0            0            0             0   \n",
       "260                  0             0            0            0             0   \n",
       "261                  0             0            0            0             0   \n",
       "262                  0             0            0            0             0   \n",
       "\n",
       "     fr_unbrch_alkane  fr_urea  \n",
       "0                   0        0  \n",
       "1                   0        0  \n",
       "2                   0        0  \n",
       "3                   0        0  \n",
       "4                   0        0  \n",
       "..                ...      ...  \n",
       "258                 0        1  \n",
       "259                 0        1  \n",
       "260                 0        1  \n",
       "261                 0        1  \n",
       "262                 0        0  \n",
       "\n",
       "[263 rows x 208 columns]"
      ]
     },
     "execution_count": 19,
     "metadata": {},
     "output_type": "execute_result"
    }
   ],
   "source": [
    "df_with_200_descriptors = pd.DataFrame(Mol_descriptors,columns=desc_names)\n",
    "df_with_200_descriptors"
   ]
  },
  {
   "cell_type": "code",
   "execution_count": null,
   "id": "k1SFNIwIqg25",
   "metadata": {
    "executionInfo": {
     "elapsed": 19,
     "status": "aborted",
     "timestamp": 1672989440676,
     "user": {
      "displayName": "MUTHUSARAVANAN S",
      "userId": "11781134045498187958"
     },
     "user_tz": -330
    },
    "id": "k1SFNIwIqg25"
   },
   "outputs": [],
   "source": [
    "df_with_200_descriptors.to_csv('rdkitinputfinal.csv')\n",
    "from google.colab import drive\n",
    "drive.mount('drive',force_remount=True)\n",
    "!cp rdkitinputfinal.csv \"drive/My Drive/\""
   ]
  },
  {
   "cell_type": "code",
   "execution_count": 21,
   "id": "J0ipESwLc0WG",
   "metadata": {
    "executionInfo": {
     "elapsed": 20,
     "status": "aborted",
     "timestamp": 1672989440677,
     "user": {
      "displayName": "MUTHUSARAVANAN S",
      "userId": "11781134045498187958"
     },
     "user_tz": -330
    },
    "id": "J0ipESwLc0WG"
   },
   "outputs": [
    {
     "data": {
      "text/html": [
       "<div>\n",
       "<style scoped>\n",
       "    .dataframe tbody tr th:only-of-type {\n",
       "        vertical-align: middle;\n",
       "    }\n",
       "\n",
       "    .dataframe tbody tr th {\n",
       "        vertical-align: top;\n",
       "    }\n",
       "\n",
       "    .dataframe thead th {\n",
       "        text-align: right;\n",
       "    }\n",
       "</style>\n",
       "<table border=\"1\" class=\"dataframe\">\n",
       "  <thead>\n",
       "    <tr style=\"text-align: right;\">\n",
       "      <th></th>\n",
       "      <th>MaxEStateIndex</th>\n",
       "      <th>MinEStateIndex</th>\n",
       "      <th>MaxAbsEStateIndex</th>\n",
       "      <th>MinAbsEStateIndex</th>\n",
       "      <th>qed</th>\n",
       "      <th>MolWt</th>\n",
       "      <th>HeavyAtomMolWt</th>\n",
       "      <th>ExactMolWt</th>\n",
       "      <th>NumValenceElectrons</th>\n",
       "      <th>NumRadicalElectrons</th>\n",
       "      <th>...</th>\n",
       "      <th>fr_sulfide</th>\n",
       "      <th>fr_sulfonamd</th>\n",
       "      <th>fr_sulfone</th>\n",
       "      <th>fr_term_acetylene</th>\n",
       "      <th>fr_tetrazole</th>\n",
       "      <th>fr_thiazole</th>\n",
       "      <th>fr_thiocyan</th>\n",
       "      <th>fr_thiophene</th>\n",
       "      <th>fr_unbrch_alkane</th>\n",
       "      <th>fr_urea</th>\n",
       "    </tr>\n",
       "  </thead>\n",
       "  <tbody>\n",
       "    <tr>\n",
       "      <th>0</th>\n",
       "      <td>8.405392</td>\n",
       "      <td>-3.567918</td>\n",
       "      <td>8.405392</td>\n",
       "      <td>0.190324</td>\n",
       "      <td>0.779302</td>\n",
       "      <td>203.249</td>\n",
       "      <td>190.145</td>\n",
       "      <td>203.117095</td>\n",
       "      <td>78</td>\n",
       "      <td>0</td>\n",
       "      <td>...</td>\n",
       "      <td>0</td>\n",
       "      <td>0</td>\n",
       "      <td>0</td>\n",
       "      <td>0</td>\n",
       "      <td>0</td>\n",
       "      <td>0</td>\n",
       "      <td>0</td>\n",
       "      <td>0</td>\n",
       "      <td>0</td>\n",
       "      <td>0</td>\n",
       "    </tr>\n",
       "    <tr>\n",
       "      <th>1</th>\n",
       "      <td>8.027036</td>\n",
       "      <td>-3.826332</td>\n",
       "      <td>8.027036</td>\n",
       "      <td>0.073484</td>\n",
       "      <td>0.479794</td>\n",
       "      <td>222.317</td>\n",
       "      <td>208.205</td>\n",
       "      <td>222.093917</td>\n",
       "      <td>80</td>\n",
       "      <td>0</td>\n",
       "      <td>...</td>\n",
       "      <td>1</td>\n",
       "      <td>0</td>\n",
       "      <td>0</td>\n",
       "      <td>0</td>\n",
       "      <td>0</td>\n",
       "      <td>0</td>\n",
       "      <td>0</td>\n",
       "      <td>0</td>\n",
       "      <td>0</td>\n",
       "      <td>0</td>\n",
       "    </tr>\n",
       "    <tr>\n",
       "      <th>2</th>\n",
       "      <td>8.489020</td>\n",
       "      <td>-3.858482</td>\n",
       "      <td>8.489020</td>\n",
       "      <td>0.323751</td>\n",
       "      <td>0.807999</td>\n",
       "      <td>217.276</td>\n",
       "      <td>202.156</td>\n",
       "      <td>217.132745</td>\n",
       "      <td>84</td>\n",
       "      <td>0</td>\n",
       "      <td>...</td>\n",
       "      <td>0</td>\n",
       "      <td>0</td>\n",
       "      <td>0</td>\n",
       "      <td>0</td>\n",
       "      <td>0</td>\n",
       "      <td>0</td>\n",
       "      <td>0</td>\n",
       "      <td>0</td>\n",
       "      <td>0</td>\n",
       "      <td>0</td>\n",
       "    </tr>\n",
       "    <tr>\n",
       "      <th>3</th>\n",
       "      <td>8.720346</td>\n",
       "      <td>-3.174286</td>\n",
       "      <td>8.720346</td>\n",
       "      <td>0.200154</td>\n",
       "      <td>0.587710</td>\n",
       "      <td>290.779</td>\n",
       "      <td>279.691</td>\n",
       "      <td>290.039295</td>\n",
       "      <td>96</td>\n",
       "      <td>0</td>\n",
       "      <td>...</td>\n",
       "      <td>1</td>\n",
       "      <td>0</td>\n",
       "      <td>0</td>\n",
       "      <td>0</td>\n",
       "      <td>0</td>\n",
       "      <td>0</td>\n",
       "      <td>0</td>\n",
       "      <td>0</td>\n",
       "      <td>0</td>\n",
       "      <td>0</td>\n",
       "    </tr>\n",
       "    <tr>\n",
       "      <th>4</th>\n",
       "      <td>9.005392</td>\n",
       "      <td>-4.658624</td>\n",
       "      <td>9.005392</td>\n",
       "      <td>0.192640</td>\n",
       "      <td>0.869763</td>\n",
       "      <td>259.357</td>\n",
       "      <td>238.189</td>\n",
       "      <td>259.179696</td>\n",
       "      <td>102</td>\n",
       "      <td>0</td>\n",
       "      <td>...</td>\n",
       "      <td>0</td>\n",
       "      <td>0</td>\n",
       "      <td>0</td>\n",
       "      <td>0</td>\n",
       "      <td>0</td>\n",
       "      <td>0</td>\n",
       "      <td>0</td>\n",
       "      <td>0</td>\n",
       "      <td>0</td>\n",
       "      <td>0</td>\n",
       "    </tr>\n",
       "    <tr>\n",
       "      <th>...</th>\n",
       "      <td>...</td>\n",
       "      <td>...</td>\n",
       "      <td>...</td>\n",
       "      <td>...</td>\n",
       "      <td>...</td>\n",
       "      <td>...</td>\n",
       "      <td>...</td>\n",
       "      <td>...</td>\n",
       "      <td>...</td>\n",
       "      <td>...</td>\n",
       "      <td>...</td>\n",
       "      <td>...</td>\n",
       "      <td>...</td>\n",
       "      <td>...</td>\n",
       "      <td>...</td>\n",
       "      <td>...</td>\n",
       "      <td>...</td>\n",
       "      <td>...</td>\n",
       "      <td>...</td>\n",
       "      <td>...</td>\n",
       "      <td>...</td>\n",
       "    </tr>\n",
       "    <tr>\n",
       "      <th>258</th>\n",
       "      <td>13.334900</td>\n",
       "      <td>-4.232521</td>\n",
       "      <td>13.334900</td>\n",
       "      <td>0.215771</td>\n",
       "      <td>0.619001</td>\n",
       "      <td>406.277</td>\n",
       "      <td>389.141</td>\n",
       "      <td>405.087164</td>\n",
       "      <td>140</td>\n",
       "      <td>0</td>\n",
       "      <td>...</td>\n",
       "      <td>0</td>\n",
       "      <td>0</td>\n",
       "      <td>0</td>\n",
       "      <td>0</td>\n",
       "      <td>0</td>\n",
       "      <td>0</td>\n",
       "      <td>0</td>\n",
       "      <td>0</td>\n",
       "      <td>0</td>\n",
       "      <td>1</td>\n",
       "    </tr>\n",
       "    <tr>\n",
       "      <th>259</th>\n",
       "      <td>14.690008</td>\n",
       "      <td>-4.355645</td>\n",
       "      <td>14.690008</td>\n",
       "      <td>0.181323</td>\n",
       "      <td>0.654910</td>\n",
       "      <td>373.367</td>\n",
       "      <td>356.231</td>\n",
       "      <td>373.146265</td>\n",
       "      <td>140</td>\n",
       "      <td>0</td>\n",
       "      <td>...</td>\n",
       "      <td>0</td>\n",
       "      <td>0</td>\n",
       "      <td>0</td>\n",
       "      <td>0</td>\n",
       "      <td>0</td>\n",
       "      <td>0</td>\n",
       "      <td>0</td>\n",
       "      <td>0</td>\n",
       "      <td>0</td>\n",
       "      <td>1</td>\n",
       "    </tr>\n",
       "    <tr>\n",
       "      <th>260</th>\n",
       "      <td>13.717881</td>\n",
       "      <td>-5.965837</td>\n",
       "      <td>13.717881</td>\n",
       "      <td>0.101056</td>\n",
       "      <td>0.496077</td>\n",
       "      <td>473.381</td>\n",
       "      <td>456.245</td>\n",
       "      <td>473.139877</td>\n",
       "      <td>176</td>\n",
       "      <td>0</td>\n",
       "      <td>...</td>\n",
       "      <td>0</td>\n",
       "      <td>0</td>\n",
       "      <td>0</td>\n",
       "      <td>0</td>\n",
       "      <td>0</td>\n",
       "      <td>0</td>\n",
       "      <td>0</td>\n",
       "      <td>0</td>\n",
       "      <td>0</td>\n",
       "      <td>1</td>\n",
       "    </tr>\n",
       "    <tr>\n",
       "      <th>261</th>\n",
       "      <td>13.783675</td>\n",
       "      <td>-4.337614</td>\n",
       "      <td>13.783675</td>\n",
       "      <td>0.195802</td>\n",
       "      <td>0.500955</td>\n",
       "      <td>387.447</td>\n",
       "      <td>366.279</td>\n",
       "      <td>387.180758</td>\n",
       "      <td>146</td>\n",
       "      <td>0</td>\n",
       "      <td>...</td>\n",
       "      <td>0</td>\n",
       "      <td>0</td>\n",
       "      <td>0</td>\n",
       "      <td>0</td>\n",
       "      <td>0</td>\n",
       "      <td>0</td>\n",
       "      <td>0</td>\n",
       "      <td>0</td>\n",
       "      <td>0</td>\n",
       "      <td>1</td>\n",
       "    </tr>\n",
       "    <tr>\n",
       "      <th>262</th>\n",
       "      <td>9.026090</td>\n",
       "      <td>-3.742860</td>\n",
       "      <td>9.026090</td>\n",
       "      <td>0.238173</td>\n",
       "      <td>0.438684</td>\n",
       "      <td>378.863</td>\n",
       "      <td>359.711</td>\n",
       "      <td>378.124739</td>\n",
       "      <td>136</td>\n",
       "      <td>0</td>\n",
       "      <td>...</td>\n",
       "      <td>0</td>\n",
       "      <td>0</td>\n",
       "      <td>0</td>\n",
       "      <td>0</td>\n",
       "      <td>0</td>\n",
       "      <td>0</td>\n",
       "      <td>0</td>\n",
       "      <td>0</td>\n",
       "      <td>0</td>\n",
       "      <td>0</td>\n",
       "    </tr>\n",
       "  </tbody>\n",
       "</table>\n",
       "<p>263 rows × 208 columns</p>\n",
       "</div>"
      ],
      "text/plain": [
       "     MaxEStateIndex  MinEStateIndex  MaxAbsEStateIndex  MinAbsEStateIndex  \\\n",
       "0          8.405392       -3.567918           8.405392           0.190324   \n",
       "1          8.027036       -3.826332           8.027036           0.073484   \n",
       "2          8.489020       -3.858482           8.489020           0.323751   \n",
       "3          8.720346       -3.174286           8.720346           0.200154   \n",
       "4          9.005392       -4.658624           9.005392           0.192640   \n",
       "..              ...             ...                ...                ...   \n",
       "258       13.334900       -4.232521          13.334900           0.215771   \n",
       "259       14.690008       -4.355645          14.690008           0.181323   \n",
       "260       13.717881       -5.965837          13.717881           0.101056   \n",
       "261       13.783675       -4.337614          13.783675           0.195802   \n",
       "262        9.026090       -3.742860           9.026090           0.238173   \n",
       "\n",
       "          qed    MolWt  HeavyAtomMolWt  ExactMolWt  NumValenceElectrons  \\\n",
       "0    0.779302  203.249         190.145  203.117095                   78   \n",
       "1    0.479794  222.317         208.205  222.093917                   80   \n",
       "2    0.807999  217.276         202.156  217.132745                   84   \n",
       "3    0.587710  290.779         279.691  290.039295                   96   \n",
       "4    0.869763  259.357         238.189  259.179696                  102   \n",
       "..        ...      ...             ...         ...                  ...   \n",
       "258  0.619001  406.277         389.141  405.087164                  140   \n",
       "259  0.654910  373.367         356.231  373.146265                  140   \n",
       "260  0.496077  473.381         456.245  473.139877                  176   \n",
       "261  0.500955  387.447         366.279  387.180758                  146   \n",
       "262  0.438684  378.863         359.711  378.124739                  136   \n",
       "\n",
       "     NumRadicalElectrons  ...  fr_sulfide  fr_sulfonamd  fr_sulfone  \\\n",
       "0                      0  ...           0             0           0   \n",
       "1                      0  ...           1             0           0   \n",
       "2                      0  ...           0             0           0   \n",
       "3                      0  ...           1             0           0   \n",
       "4                      0  ...           0             0           0   \n",
       "..                   ...  ...         ...           ...         ...   \n",
       "258                    0  ...           0             0           0   \n",
       "259                    0  ...           0             0           0   \n",
       "260                    0  ...           0             0           0   \n",
       "261                    0  ...           0             0           0   \n",
       "262                    0  ...           0             0           0   \n",
       "\n",
       "     fr_term_acetylene  fr_tetrazole  fr_thiazole  fr_thiocyan  fr_thiophene  \\\n",
       "0                    0             0            0            0             0   \n",
       "1                    0             0            0            0             0   \n",
       "2                    0             0            0            0             0   \n",
       "3                    0             0            0            0             0   \n",
       "4                    0             0            0            0             0   \n",
       "..                 ...           ...          ...          ...           ...   \n",
       "258                  0             0            0            0             0   \n",
       "259                  0             0            0            0             0   \n",
       "260                  0             0            0            0             0   \n",
       "261                  0             0            0            0             0   \n",
       "262                  0             0            0            0             0   \n",
       "\n",
       "     fr_unbrch_alkane  fr_urea  \n",
       "0                   0        0  \n",
       "1                   0        0  \n",
       "2                   0        0  \n",
       "3                   0        0  \n",
       "4                   0        0  \n",
       "..                ...      ...  \n",
       "258                 0        1  \n",
       "259                 0        1  \n",
       "260                 0        1  \n",
       "261                 0        1  \n",
       "262                 0        0  \n",
       "\n",
       "[263 rows x 208 columns]"
      ]
     },
     "execution_count": 21,
     "metadata": {},
     "output_type": "execute_result"
    }
   ],
   "source": [
    "df_with_200_descriptors_num = df_with_200_descriptors.select_dtypes(exclude='number')\n",
    "df_with_200_descriptors.drop(df_with_200_descriptors_num, axis=0, inplace=True)\n",
    "df_with_200_descriptors"
   ]
  },
  {
   "cell_type": "markdown",
   "id": "NleM70CaGN7X",
   "metadata": {
    "id": "NleM70CaGN7X"
   },
   "source": [
    "## Calculate descreptors using Mordred-1826 descriptors"
   ]
  },
  {
   "cell_type": "code",
   "execution_count": 20,
   "id": "Xha47cFtGN7X",
   "metadata": {
    "executionInfo": {
     "elapsed": 5,
     "status": "ok",
     "timestamp": 1672989546816,
     "user": {
      "displayName": "MUTHUSARAVANAN S",
      "userId": "11781134045498187958"
     },
     "user_tz": -330
    },
    "id": "Xha47cFtGN7X"
   },
   "outputs": [
    {
     "ename": "SyntaxError",
     "evalue": "invalid syntax (3069932986.py, line 3)",
     "output_type": "error",
     "traceback": [
      "\u001b[1;36m  File \u001b[1;32m\"C:\\Users\\91830\\AppData\\Local\\Temp\\ipykernel_20208\\3069932986.py\"\u001b[1;36m, line \u001b[1;32m3\u001b[0m\n\u001b[1;33m    mols = [Chem.MolFromSmiles(smi) for smi in data]\u001b[0m\n\u001b[1;37m    ^\u001b[0m\n\u001b[1;31mSyntaxError\u001b[0m\u001b[1;31m:\u001b[0m invalid syntax\n"
     ]
    }
   ],
   "source": [
    "def All_Mordred_descriptors(data):\n",
    "    calc = Calculator(descriptors, ignore_3D=True\n",
    "    mols = [Chem.MolFromSmiles(smi) for smi in data]\n",
    "    \n",
    "    # pandas df\n",
    "    df = calc.pandas(mols)\n",
    "    return df"
   ]
  },
  {
   "cell_type": "code",
   "execution_count": 19,
   "id": "Hnes8xS8GN7Y",
   "metadata": {
    "colab": {
     "base_uri": "https://localhost:8080/"
    },
    "executionInfo": {
     "elapsed": 848725,
     "status": "ok",
     "timestamp": 1672990517862,
     "user": {
      "displayName": "MUTHUSARAVANAN S",
      "userId": "11781134045498187958"
     },
     "user_tz": -330
    },
    "id": "Hnes8xS8GN7Y",
    "outputId": "5e261bff-7e59-40bc-d208-12b64738bd9c"
   },
   "outputs": [
    {
     "name": "stderr",
     "output_type": "stream",
     "text": [
      " 21%|██▏       | 357/1662 [02:49<09:14,  2.35it/s]"
     ]
    },
    {
     "name": "stdout",
     "output_type": "stream",
     "text": [
      "/usr/local/lib/python3.8/dist-packages/numpy/core/fromnumeric.py:86: RuntimeWarning: overflow encountered in reduce\n",
      "  return ufunc.reduce(obj, axis, dtype, out, **passkwargs)\n"
     ]
    },
    {
     "name": "stderr",
     "output_type": "stream",
     "text": [
      " 60%|██████    | 1002/1662 [08:23<08:41,  1.27it/s]"
     ]
    },
    {
     "name": "stdout",
     "output_type": "stream",
     "text": [
      "/usr/local/lib/python3.8/dist-packages/numpy/core/fromnumeric.py:86: RuntimeWarning: overflow encountered in reduce\n",
      "  return ufunc.reduce(obj, axis, dtype, out, **passkwargs)\n"
     ]
    },
    {
     "name": "stderr",
     "output_type": "stream",
     "text": [
      "100%|██████████| 1662/1662 [14:06<00:00,  1.96it/s]\n"
     ]
    }
   ],
   "source": [
    "mordred_descriptors = All_Mordred_descriptors(dataset_new['canonical_smiles'])"
   ]
  },
  {
   "cell_type": "code",
   "execution_count": 20,
   "id": "vJtQJ2J2GN7Y",
   "metadata": {
    "colab": {
     "base_uri": "https://localhost:8080/"
    },
    "executionInfo": {
     "elapsed": 13,
     "status": "ok",
     "timestamp": 1672990517863,
     "user": {
      "displayName": "MUTHUSARAVANAN S",
      "userId": "11781134045498187958"
     },
     "user_tz": -330
    },
    "id": "vJtQJ2J2GN7Y",
    "outputId": "b20ea3a5-95d1-406b-a4ee-3c9fd281e97f"
   },
   "outputs": [
    {
     "data": {
      "text/plain": [
       "(1662, 1826)"
      ]
     },
     "execution_count": 20,
     "metadata": {},
     "output_type": "execute_result"
    }
   ],
   "source": [
    "mordred_descriptors.shape"
   ]
  },
  {
   "cell_type": "code",
   "execution_count": 21,
   "id": "v-eiwQqLGN7Y",
   "metadata": {
    "colab": {
     "base_uri": "https://localhost:8080/",
     "height": 488
    },
    "executionInfo": {
     "elapsed": 12,
     "status": "ok",
     "timestamp": 1672990517864,
     "user": {
      "displayName": "MUTHUSARAVANAN S",
      "userId": "11781134045498187958"
     },
     "user_tz": -330
    },
    "id": "v-eiwQqLGN7Y",
    "outputId": "5cdcc5c7-d3f7-4c0a-fd2c-310228a56ba0"
   },
   "outputs": [
    {
     "data": {
      "text/html": [
       "\n",
       "  <div id=\"df-139a611e-ba5b-45d8-8feb-8f7f1a7269ff\">\n",
       "    <div class=\"colab-df-container\">\n",
       "      <div>\n",
       "<style scoped>\n",
       "    .dataframe tbody tr th:only-of-type {\n",
       "        vertical-align: middle;\n",
       "    }\n",
       "\n",
       "    .dataframe tbody tr th {\n",
       "        vertical-align: top;\n",
       "    }\n",
       "\n",
       "    .dataframe thead th {\n",
       "        text-align: right;\n",
       "    }\n",
       "</style>\n",
       "<table border=\"1\" class=\"dataframe\">\n",
       "  <thead>\n",
       "    <tr style=\"text-align: right;\">\n",
       "      <th></th>\n",
       "      <th>ABC</th>\n",
       "      <th>ABCGG</th>\n",
       "      <th>nAcid</th>\n",
       "      <th>nBase</th>\n",
       "      <th>SpAbs_A</th>\n",
       "      <th>SpMax_A</th>\n",
       "      <th>SpDiam_A</th>\n",
       "      <th>SpAD_A</th>\n",
       "      <th>SpMAD_A</th>\n",
       "      <th>LogEE_A</th>\n",
       "      <th>...</th>\n",
       "      <th>SRW10</th>\n",
       "      <th>TSRW10</th>\n",
       "      <th>MW</th>\n",
       "      <th>AMW</th>\n",
       "      <th>WPath</th>\n",
       "      <th>WPol</th>\n",
       "      <th>Zagreb1</th>\n",
       "      <th>Zagreb2</th>\n",
       "      <th>mZagreb1</th>\n",
       "      <th>mZagreb2</th>\n",
       "    </tr>\n",
       "  </thead>\n",
       "  <tbody>\n",
       "    <tr>\n",
       "      <th>0</th>\n",
       "      <td>18.211445</td>\n",
       "      <td>14.907513</td>\n",
       "      <td>0</td>\n",
       "      <td>0</td>\n",
       "      <td>28.497004</td>\n",
       "      <td>2.49716</td>\n",
       "      <td>4.866136</td>\n",
       "      <td>28.497004</td>\n",
       "      <td>1.239</td>\n",
       "      <td>4.073476</td>\n",
       "      <td>...</td>\n",
       "      <td>10.094562</td>\n",
       "      <td>71.858690</td>\n",
       "      <td>308.138559</td>\n",
       "      <td>7.900989</td>\n",
       "      <td>1204</td>\n",
       "      <td>34</td>\n",
       "      <td>124.0</td>\n",
       "      <td>144.0</td>\n",
       "      <td>8.340278</td>\n",
       "      <td>4.819444</td>\n",
       "    </tr>\n",
       "    <tr>\n",
       "      <th>1</th>\n",
       "      <td>16.470305</td>\n",
       "      <td>13.419885</td>\n",
       "      <td>0</td>\n",
       "      <td>0</td>\n",
       "      <td>27.27672</td>\n",
       "      <td>2.453517</td>\n",
       "      <td>4.67595</td>\n",
       "      <td>27.27672</td>\n",
       "      <td>1.298891</td>\n",
       "      <td>3.982213</td>\n",
       "      <td>...</td>\n",
       "      <td>9.825904</td>\n",
       "      <td>70.672518</td>\n",
       "      <td>319.054611</td>\n",
       "      <td>9.115846</td>\n",
       "      <td>1089</td>\n",
       "      <td>28</td>\n",
       "      <td>110.0</td>\n",
       "      <td>128.0</td>\n",
       "      <td>6.527778</td>\n",
       "      <td>4.583333</td>\n",
       "    </tr>\n",
       "    <tr>\n",
       "      <th>2</th>\n",
       "      <td>23.653808</td>\n",
       "      <td>18.956784</td>\n",
       "      <td>0</td>\n",
       "      <td>0</td>\n",
       "      <td>39.586556</td>\n",
       "      <td>2.691139</td>\n",
       "      <td>5.173611</td>\n",
       "      <td>39.586556</td>\n",
       "      <td>1.365054</td>\n",
       "      <td>4.35623</td>\n",
       "      <td>...</td>\n",
       "      <td>10.730488</td>\n",
       "      <td>83.410496</td>\n",
       "      <td>378.148061</td>\n",
       "      <td>8.045703</td>\n",
       "      <td>1816</td>\n",
       "      <td>59</td>\n",
       "      <td>172.0</td>\n",
       "      <td>221.0</td>\n",
       "      <td>7.694444</td>\n",
       "      <td>6.250000</td>\n",
       "    </tr>\n",
       "    <tr>\n",
       "      <th>3</th>\n",
       "      <td>21.201273</td>\n",
       "      <td>16.474962</td>\n",
       "      <td>0</td>\n",
       "      <td>0</td>\n",
       "      <td>35.672258</td>\n",
       "      <td>2.457971</td>\n",
       "      <td>4.797878</td>\n",
       "      <td>35.672258</td>\n",
       "      <td>1.321195</td>\n",
       "      <td>4.234918</td>\n",
       "      <td>...</td>\n",
       "      <td>10.099917</td>\n",
       "      <td>77.808109</td>\n",
       "      <td>360.169859</td>\n",
       "      <td>7.663188</td>\n",
       "      <td>2072</td>\n",
       "      <td>38</td>\n",
       "      <td>142.0</td>\n",
       "      <td>166.0</td>\n",
       "      <td>7.138889</td>\n",
       "      <td>6.000000</td>\n",
       "    </tr>\n",
       "    <tr>\n",
       "      <th>4</th>\n",
       "      <td>16.958632</td>\n",
       "      <td>13.753570</td>\n",
       "      <td>0</td>\n",
       "      <td>0</td>\n",
       "      <td>29.076766</td>\n",
       "      <td>2.450723</td>\n",
       "      <td>4.789615</td>\n",
       "      <td>29.076766</td>\n",
       "      <td>1.321671</td>\n",
       "      <td>4.018617</td>\n",
       "      <td>...</td>\n",
       "      <td>9.864175</td>\n",
       "      <td>69.797372</td>\n",
       "      <td>314.093439</td>\n",
       "      <td>8.489012</td>\n",
       "      <td>1062</td>\n",
       "      <td>31</td>\n",
       "      <td>112.0</td>\n",
       "      <td>130.0</td>\n",
       "      <td>6.166667</td>\n",
       "      <td>5.000000</td>\n",
       "    </tr>\n",
       "    <tr>\n",
       "      <th>...</th>\n",
       "      <td>...</td>\n",
       "      <td>...</td>\n",
       "      <td>...</td>\n",
       "      <td>...</td>\n",
       "      <td>...</td>\n",
       "      <td>...</td>\n",
       "      <td>...</td>\n",
       "      <td>...</td>\n",
       "      <td>...</td>\n",
       "      <td>...</td>\n",
       "      <td>...</td>\n",
       "      <td>...</td>\n",
       "      <td>...</td>\n",
       "      <td>...</td>\n",
       "      <td>...</td>\n",
       "      <td>...</td>\n",
       "      <td>...</td>\n",
       "      <td>...</td>\n",
       "      <td>...</td>\n",
       "      <td>...</td>\n",
       "      <td>...</td>\n",
       "    </tr>\n",
       "    <tr>\n",
       "      <th>1657</th>\n",
       "      <td>28.047581</td>\n",
       "      <td>20.457803</td>\n",
       "      <td>0</td>\n",
       "      <td>2</td>\n",
       "      <td>44.630784</td>\n",
       "      <td>2.564381</td>\n",
       "      <td>4.91252</td>\n",
       "      <td>44.630784</td>\n",
       "      <td>1.275165</td>\n",
       "      <td>4.503922</td>\n",
       "      <td>...</td>\n",
       "      <td>10.600602</td>\n",
       "      <td>88.234353</td>\n",
       "      <td>480.244916</td>\n",
       "      <td>7.388383</td>\n",
       "      <td>4257</td>\n",
       "      <td>58</td>\n",
       "      <td>194.0</td>\n",
       "      <td>232.0</td>\n",
       "      <td>11.395833</td>\n",
       "      <td>7.361111</td>\n",
       "    </tr>\n",
       "    <tr>\n",
       "      <th>1658</th>\n",
       "      <td>22.843355</td>\n",
       "      <td>17.346484</td>\n",
       "      <td>0</td>\n",
       "      <td>0</td>\n",
       "      <td>36.736358</td>\n",
       "      <td>2.493436</td>\n",
       "      <td>4.890796</td>\n",
       "      <td>36.736358</td>\n",
       "      <td>1.312013</td>\n",
       "      <td>4.319197</td>\n",
       "      <td>...</td>\n",
       "      <td>10.436613</td>\n",
       "      <td>84.213033</td>\n",
       "      <td>379.200825</td>\n",
       "      <td>7.154733</td>\n",
       "      <td>2098</td>\n",
       "      <td>43</td>\n",
       "      <td>160.0</td>\n",
       "      <td>192.0</td>\n",
       "      <td>7.8125</td>\n",
       "      <td>5.819444</td>\n",
       "    </tr>\n",
       "    <tr>\n",
       "      <th>1659</th>\n",
       "      <td>27.996959</td>\n",
       "      <td>21.698764</td>\n",
       "      <td>0</td>\n",
       "      <td>0</td>\n",
       "      <td>45.036883</td>\n",
       "      <td>2.514898</td>\n",
       "      <td>4.937553</td>\n",
       "      <td>45.036883</td>\n",
       "      <td>1.286768</td>\n",
       "      <td>4.503987</td>\n",
       "      <td>...</td>\n",
       "      <td>10.603834</td>\n",
       "      <td>88.082130</td>\n",
       "      <td>482.207782</td>\n",
       "      <td>7.777545</td>\n",
       "      <td>3727</td>\n",
       "      <td>59</td>\n",
       "      <td>194.0</td>\n",
       "      <td>233.0</td>\n",
       "      <td>11.395833</td>\n",
       "      <td>7.388889</td>\n",
       "    </tr>\n",
       "    <tr>\n",
       "      <th>1660</th>\n",
       "      <td>25.529442</td>\n",
       "      <td>19.668030</td>\n",
       "      <td>1</td>\n",
       "      <td>0</td>\n",
       "      <td>43.085032</td>\n",
       "      <td>2.497455</td>\n",
       "      <td>4.994909</td>\n",
       "      <td>43.085032</td>\n",
       "      <td>1.305607</td>\n",
       "      <td>4.424685</td>\n",
       "      <td>...</td>\n",
       "      <td>10.514964</td>\n",
       "      <td>69.420199</td>\n",
       "      <td>440.164854</td>\n",
       "      <td>8.151201</td>\n",
       "      <td>3182</td>\n",
       "      <td>59</td>\n",
       "      <td>174.0</td>\n",
       "      <td>209.0</td>\n",
       "      <td>11.083333</td>\n",
       "      <td>7.416667</td>\n",
       "    </tr>\n",
       "    <tr>\n",
       "      <th>1661</th>\n",
       "      <td>36.026654</td>\n",
       "      <td>23.606745</td>\n",
       "      <td>0</td>\n",
       "      <td>1</td>\n",
       "      <td>60.282867</td>\n",
       "      <td>2.498686</td>\n",
       "      <td>4.981623</td>\n",
       "      <td>60.282867</td>\n",
       "      <td>1.339619</td>\n",
       "      <td>4.756555</td>\n",
       "      <td>...</td>\n",
       "      <td>10.837481</td>\n",
       "      <td>97.405533</td>\n",
       "      <td>596.253589</td>\n",
       "      <td>7.743553</td>\n",
       "      <td>8649</td>\n",
       "      <td>78</td>\n",
       "      <td>248.0</td>\n",
       "      <td>298.0</td>\n",
       "      <td>12.027778</td>\n",
       "      <td>9.750000</td>\n",
       "    </tr>\n",
       "  </tbody>\n",
       "</table>\n",
       "<p>1662 rows × 1826 columns</p>\n",
       "</div>\n",
       "      <button class=\"colab-df-convert\" onclick=\"convertToInteractive('df-139a611e-ba5b-45d8-8feb-8f7f1a7269ff')\"\n",
       "              title=\"Convert this dataframe to an interactive table.\"\n",
       "              style=\"display:none;\">\n",
       "        \n",
       "  <svg xmlns=\"http://www.w3.org/2000/svg\" height=\"24px\"viewBox=\"0 0 24 24\"\n",
       "       width=\"24px\">\n",
       "    <path d=\"M0 0h24v24H0V0z\" fill=\"none\"/>\n",
       "    <path d=\"M18.56 5.44l.94 2.06.94-2.06 2.06-.94-2.06-.94-.94-2.06-.94 2.06-2.06.94zm-11 1L8.5 8.5l.94-2.06 2.06-.94-2.06-.94L8.5 2.5l-.94 2.06-2.06.94zm10 10l.94 2.06.94-2.06 2.06-.94-2.06-.94-.94-2.06-.94 2.06-2.06.94z\"/><path d=\"M17.41 7.96l-1.37-1.37c-.4-.4-.92-.59-1.43-.59-.52 0-1.04.2-1.43.59L10.3 9.45l-7.72 7.72c-.78.78-.78 2.05 0 2.83L4 21.41c.39.39.9.59 1.41.59.51 0 1.02-.2 1.41-.59l7.78-7.78 2.81-2.81c.8-.78.8-2.07 0-2.86zM5.41 20L4 18.59l7.72-7.72 1.47 1.35L5.41 20z\"/>\n",
       "  </svg>\n",
       "      </button>\n",
       "      \n",
       "  <style>\n",
       "    .colab-df-container {\n",
       "      display:flex;\n",
       "      flex-wrap:wrap;\n",
       "      gap: 12px;\n",
       "    }\n",
       "\n",
       "    .colab-df-convert {\n",
       "      background-color: #E8F0FE;\n",
       "      border: none;\n",
       "      border-radius: 50%;\n",
       "      cursor: pointer;\n",
       "      display: none;\n",
       "      fill: #1967D2;\n",
       "      height: 32px;\n",
       "      padding: 0 0 0 0;\n",
       "      width: 32px;\n",
       "    }\n",
       "\n",
       "    .colab-df-convert:hover {\n",
       "      background-color: #E2EBFA;\n",
       "      box-shadow: 0px 1px 2px rgba(60, 64, 67, 0.3), 0px 1px 3px 1px rgba(60, 64, 67, 0.15);\n",
       "      fill: #174EA6;\n",
       "    }\n",
       "\n",
       "    [theme=dark] .colab-df-convert {\n",
       "      background-color: #3B4455;\n",
       "      fill: #D2E3FC;\n",
       "    }\n",
       "\n",
       "    [theme=dark] .colab-df-convert:hover {\n",
       "      background-color: #434B5C;\n",
       "      box-shadow: 0px 1px 3px 1px rgba(0, 0, 0, 0.15);\n",
       "      filter: drop-shadow(0px 1px 2px rgba(0, 0, 0, 0.3));\n",
       "      fill: #FFFFFF;\n",
       "    }\n",
       "  </style>\n",
       "\n",
       "      <script>\n",
       "        const buttonEl =\n",
       "          document.querySelector('#df-139a611e-ba5b-45d8-8feb-8f7f1a7269ff button.colab-df-convert');\n",
       "        buttonEl.style.display =\n",
       "          google.colab.kernel.accessAllowed ? 'block' : 'none';\n",
       "\n",
       "        async function convertToInteractive(key) {\n",
       "          const element = document.querySelector('#df-139a611e-ba5b-45d8-8feb-8f7f1a7269ff');\n",
       "          const dataTable =\n",
       "            await google.colab.kernel.invokeFunction('convertToInteractive',\n",
       "                                                     [key], {});\n",
       "          if (!dataTable) return;\n",
       "\n",
       "          const docLinkHtml = 'Like what you see? Visit the ' +\n",
       "            '<a target=\"_blank\" href=https://colab.research.google.com/notebooks/data_table.ipynb>data table notebook</a>'\n",
       "            + ' to learn more about interactive tables.';\n",
       "          element.innerHTML = '';\n",
       "          dataTable['output_type'] = 'display_data';\n",
       "          await google.colab.output.renderOutput(dataTable, element);\n",
       "          const docLink = document.createElement('div');\n",
       "          docLink.innerHTML = docLinkHtml;\n",
       "          element.appendChild(docLink);\n",
       "        }\n",
       "      </script>\n",
       "    </div>\n",
       "  </div>\n",
       "  "
      ],
      "text/plain": [
       "            ABC      ABCGG  nAcid  nBase    SpAbs_A   SpMax_A  SpDiam_A  \\\n",
       "0     18.211445  14.907513      0      0  28.497004   2.49716  4.866136   \n",
       "1     16.470305  13.419885      0      0   27.27672  2.453517   4.67595   \n",
       "2     23.653808  18.956784      0      0  39.586556  2.691139  5.173611   \n",
       "3     21.201273  16.474962      0      0  35.672258  2.457971  4.797878   \n",
       "4     16.958632  13.753570      0      0  29.076766  2.450723  4.789615   \n",
       "...         ...        ...    ...    ...        ...       ...       ...   \n",
       "1657  28.047581  20.457803      0      2  44.630784  2.564381   4.91252   \n",
       "1658  22.843355  17.346484      0      0  36.736358  2.493436  4.890796   \n",
       "1659  27.996959  21.698764      0      0  45.036883  2.514898  4.937553   \n",
       "1660  25.529442  19.668030      1      0  43.085032  2.497455  4.994909   \n",
       "1661  36.026654  23.606745      0      1  60.282867  2.498686  4.981623   \n",
       "\n",
       "         SpAD_A   SpMAD_A   LogEE_A  ...      SRW10     TSRW10          MW  \\\n",
       "0     28.497004     1.239  4.073476  ...  10.094562  71.858690  308.138559   \n",
       "1      27.27672  1.298891  3.982213  ...   9.825904  70.672518  319.054611   \n",
       "2     39.586556  1.365054   4.35623  ...  10.730488  83.410496  378.148061   \n",
       "3     35.672258  1.321195  4.234918  ...  10.099917  77.808109  360.169859   \n",
       "4     29.076766  1.321671  4.018617  ...   9.864175  69.797372  314.093439   \n",
       "...         ...       ...       ...  ...        ...        ...         ...   \n",
       "1657  44.630784  1.275165  4.503922  ...  10.600602  88.234353  480.244916   \n",
       "1658  36.736358  1.312013  4.319197  ...  10.436613  84.213033  379.200825   \n",
       "1659  45.036883  1.286768  4.503987  ...  10.603834  88.082130  482.207782   \n",
       "1660  43.085032  1.305607  4.424685  ...  10.514964  69.420199  440.164854   \n",
       "1661  60.282867  1.339619  4.756555  ...  10.837481  97.405533  596.253589   \n",
       "\n",
       "           AMW WPath WPol  Zagreb1  Zagreb2   mZagreb1  mZagreb2  \n",
       "0     7.900989  1204   34    124.0    144.0   8.340278  4.819444  \n",
       "1     9.115846  1089   28    110.0    128.0   6.527778  4.583333  \n",
       "2     8.045703  1816   59    172.0    221.0   7.694444  6.250000  \n",
       "3     7.663188  2072   38    142.0    166.0   7.138889  6.000000  \n",
       "4     8.489012  1062   31    112.0    130.0   6.166667  5.000000  \n",
       "...        ...   ...  ...      ...      ...        ...       ...  \n",
       "1657  7.388383  4257   58    194.0    232.0  11.395833  7.361111  \n",
       "1658  7.154733  2098   43    160.0    192.0     7.8125  5.819444  \n",
       "1659  7.777545  3727   59    194.0    233.0  11.395833  7.388889  \n",
       "1660  8.151201  3182   59    174.0    209.0  11.083333  7.416667  \n",
       "1661  7.743553  8649   78    248.0    298.0  12.027778  9.750000  \n",
       "\n",
       "[1662 rows x 1826 columns]"
      ]
     },
     "execution_count": 21,
     "metadata": {},
     "output_type": "execute_result"
    }
   ],
   "source": [
    "mordred_descriptors"
   ]
  },
  {
   "cell_type": "code",
   "execution_count": 22,
   "id": "SjwMHlSdhHe1",
   "metadata": {
    "colab": {
     "base_uri": "https://localhost:8080/"
    },
    "executionInfo": {
     "elapsed": 10263,
     "status": "ok",
     "timestamp": 1672990528117,
     "user": {
      "displayName": "MUTHUSARAVANAN S",
      "userId": "11781134045498187958"
     },
     "user_tz": -330
    },
    "id": "SjwMHlSdhHe1",
    "outputId": "a23e29ca-1de6-40dc-fa7e-54b85a1614d2"
   },
   "outputs": [
    {
     "name": "stdout",
     "output_type": "stream",
     "text": [
      "Drive already mounted at drive; to attempt to forcibly remount, call drive.mount(\"drive\", force_remount=True).\n"
     ]
    }
   ],
   "source": [
    "mordred_descriptors.to_csv('mordred3dinputfinal.csv')\n",
    "from google.colab import drive\n",
    "drive.mount('drive')"
   ]
  },
  {
   "cell_type": "code",
   "execution_count": 23,
   "id": "EULOr_BengcZ",
   "metadata": {
    "executionInfo": {
     "elapsed": 1791,
     "status": "ok",
     "timestamp": 1672990529902,
     "user": {
      "displayName": "MUTHUSARAVANAN S",
      "userId": "11781134045498187958"
     },
     "user_tz": -330
    },
    "id": "EULOr_BengcZ"
   },
   "outputs": [],
   "source": [
    "!cp mordred3dinputfinal.csv \"drive/My Drive/\""
   ]
  }
 ],
 "metadata": {
  "colab": {
   "provenance": []
  },
  "kernelspec": {
   "display_name": "Python 3 (ipykernel)",
   "language": "python",
   "name": "python3"
  },
  "language_info": {
   "codemirror_mode": {
    "name": "ipython",
    "version": 3
   },
   "file_extension": ".py",
   "mimetype": "text/x-python",
   "name": "python",
   "nbconvert_exporter": "python",
   "pygments_lexer": "ipython3",
   "version": "3.9.13"
  }
 },
 "nbformat": 4,
 "nbformat_minor": 5
}
